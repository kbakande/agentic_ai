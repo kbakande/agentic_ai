{
 "cells": [
  {
   "cell_type": "markdown",
   "id": "0cdae168",
   "metadata": {},
   "source": [
    "<img src=\"https://learn.deeplearning.ai/assets/dlai-logo.png\"></img>"
   ]
  },
  {
   "cell_type": "markdown",
   "id": "ec95313a",
   "metadata": {},
   "source": [
    "## 🧠 Graded Lab: Reflection in a Research Agent\n",
    "\n",
    "In this graded lab, you’ll implement a simple **agentic workflow** designed to simulate reflective thinking in a writing task. This is one building block of a more complex research agent that will be constructed throughout the course.\n",
    "\n",
    "### 📘 Objective\n",
    "\n",
    "Build a three-step workflow where an LLM writes an essay draft, critiques it, and rewrites it. The focus of the lab is not on the content quality of the essay, but rather on how you orchestrate the **calls to the LLM** and pass intermediate results between steps.\n",
    "\n",
    "### 🛠️ What You’ll Build\n",
    "\n",
    "* **Step 1 – Drafting:** Call the LLM to generate an initial draft of an essay based on a simple prompt.\n",
    "* **Step 2 – Reflection:** Reflect on the draft using a reasoning step. (Optionally, this can be done with a different model.)\n",
    "* **Step 3 – Revision:** Apply the feedback from the reflection to generate a revised version of the essay.\n",
    "\n",
    "### 🧪 Assessment Criteria\n",
    "\n",
    "You’ll be graded based on how well you implement the agent functions. The grading is focused on **code correctness**, not the essay content. Specifically:\n",
    "\n",
    "* Each function should:\n",
    "\n",
    "  1. Successfully make a call to the LLM.\n",
    "  2. Return the correct **type** of output (e.g., a string).\n",
    "* The full workflow should:\n",
    "\n",
    "  * Successfully execute end-to-end.\n",
    "  * Maintain consistent structure and data flow across steps."
   ]
  },
  {
   "cell_type": "markdown",
   "id": "19131dc4",
   "metadata": {},
   "source": [
    "## ⚙️ Loading Essentials\n",
    "\n",
    "Before interacting with the language models, we initialize the `aisuite` client. This setup loads environment variables (e.g., API keys) from a `.env` file to securely authenticate with backend services. The `ai.Client()` instance will be used to make all model calls throughout this workflow."
   ]
  },
  {
   "cell_type": "code",
   "execution_count": 3,
   "id": "9ccd6eeb",
   "metadata": {
    "height": 132
   },
   "outputs": [],
   "source": [
    "from dotenv import load_dotenv\n",
    "\n",
    "load_dotenv()\n",
    "\n",
    "import aisuite as ai\n",
    "\n",
    "client = ai.Client()"
   ]
  },
  {
   "cell_type": "markdown",
   "id": "cb1d6e33",
   "metadata": {},
   "source": [
    "### 📝 Exercise: `generate_draft` Function\n",
    "\n",
    "**Objective**:\n",
    "Write a function called `generate_draft` that takes in a string prompt and uses a language model to generate a complete draft essay.\n",
    "\n",
    "**Inputs**:\n",
    "\n",
    "* `prompt` (str): The essay question or writing prompt.\n",
    "* `model` (str, optional): The model identifier to use. Defaults to `\"openai:gpt-4o\"`.\n",
    "\n",
    "**Output**:\n",
    "\n",
    "* A string representing the full draft of the essay.\n",
    "\n",
    "**Requirements**:\n",
    "\n",
    "* The generated essay should be well-structured, including an introduction, a body, and a conclusion.\n",
    "* The function should send the prompt to the model and return only the model’s response.\n",
    "\n",
    "You do **not** need to modify or analyze the content—just call the model appropriately and return the generated draft.\n"
   ]
  },
  {
   "cell_type": "code",
   "execution_count": 10,
   "id": "dbe325d5",
   "metadata": {
    "height": 472
   },
   "outputs": [],
   "source": [
    "# Write your `generate_draft` function here\n",
    "def generate_draft(research_topic: str) -> str:\n",
    "    prompt = f\"\"\"\n",
    "    You are a research assistant. Your task is to generate a detailed draft outline for a research paper on the following topic:\n",
    "\n",
    "    Research Topic: {research_topic}\n",
    "\n",
    "    The outline should include the following sections:\n",
    "    1. Introduction\n",
    "    2. Body\n",
    "    3. Conclusion\n",
    "\n",
    "    For each section, provide sentences formed into paragraphs in a coherent manner.\n",
    "\n",
    "    Please format the output as a structured outline.\n",
    "    \"\"\"\n",
    "    response = client.chat.completions.create(\n",
    "        model=\"openai:gpt-4.1\",\n",
    "        messages=[\n",
    "            {\"role\": \"system\", \"content\": \"You are a helpful research assistant.\"},\n",
    "            {\"role\": \"user\", \"content\": prompt}\n",
    "        ],\n",
    "        max_tokens=1500,\n",
    "        temperature=0.7,\n",
    "    )\n",
    "    return response.choices[0].message.content\n",
    " "
   ]
  },
  {
   "cell_type": "markdown",
   "id": "136a95db",
   "metadata": {},
   "source": [
    "### 🔍 Exercise: `reflect_on_draft` Function\n",
    "\n",
    "**Objective**:\n",
    "Write a function called `reflect_on_draft` that takes a previously generated essay draft and uses a language model to provide constructive feedback.\n",
    "\n",
    "**Inputs**:\n",
    "\n",
    "* `draft` (str): The essay text to reflect on.\n",
    "* `model` (str, optional): The model identifier to use. Defaults to `\"openai:o4-mini\"`.\n",
    "\n",
    "**Output**:\n",
    "\n",
    "* A string with feedback in paragraph form.\n",
    "\n",
    "**Requirements**:\n",
    "\n",
    "* The feedback should be critical but constructive.\n",
    "* It should address issues such as structure, clarity, strength of argument, and writing style.\n",
    "* The function should send the draft to the model and return its response.\n",
    "\n",
    "You do **not** need to rewrite the essay at this step—just analyze and reflect on it.\n"
   ]
  },
  {
   "cell_type": "code",
   "execution_count": 17,
   "id": "4cc1a1cf",
   "metadata": {
    "height": 438
   },
   "outputs": [],
   "source": [
    "# Write your `reflect_on_draft` function here\n",
    "def reflect_on_draft(draft: str) -> str:\n",
    "    prompt = f\"\"\"\n",
    "    You are a research assistant editor. Your task is to review the following draft outline for a research paper and provide constructive feedback.\n",
    "\n",
    "    Draft Outline:\n",
    "    {draft}\n",
    "\n",
    "    Your feedback should be critical but constructive. Your feedback should focus on the following aspects:\n",
    "    1. Clarity and coherence of the structure\n",
    "    2. Strength of the arguments presented\n",
    "    3. Writing style and tone\n",
    "    \n",
    "    Ensure your feedback is given in paragraph form with specific suggestions for improvement.\n",
    "    \"\"\"\n",
    "    response = client.chat.completions.create(\n",
    "        model=\"openai:gpt-4.1\",\n",
    "        messages=[\n",
    "            {\"role\": \"system\", \"content\": \"You are a helpful research assistant editor.\"},\n",
    "            {\"role\": \"user\", \"content\": prompt}\n",
    "        ],\n",
    "        max_tokens=1500,\n",
    "        temperature=0.7,\n",
    "    )\n",
    "    return response.choices[0].message.content"
   ]
  },
  {
   "cell_type": "markdown",
   "id": "e99bba56",
   "metadata": {},
   "source": [
    "### 🔁 Exercise: `revise_draft` Function\n",
    "\n",
    "**Objective**:\n",
    "Implement a function called `revise_draft` that improves a given essay draft based on feedback from a reflection step.\n",
    "\n",
    "**Inputs**:\n",
    "\n",
    "* `original_draft` (str): The initial version of the essay.\n",
    "* `reflection` (str): Constructive feedback or critique on the draft.\n",
    "* `model` (str, optional): The model identifier to use. Defaults to `\"openai:gpt-4o\"`.\n",
    "\n",
    "**Output**:\n",
    "\n",
    "* A string containing the revised and improved essay.\n",
    "\n",
    "**Requirements**:\n",
    "\n",
    "* The revised draft should address the issues mentioned in the feedback.\n",
    "* It should improve clarity, coherence, argument strength, and overall flow.\n",
    "* The function should use the feedback to guide the revision, and return only the final revised essay.\n"
   ]
  },
  {
   "cell_type": "code",
   "execution_count": 21,
   "id": "f91595e9",
   "metadata": {
    "height": 438
   },
   "outputs": [],
   "source": [
    "# Write your `revise_draft` function here\n",
    "def revise_draft(draft: str, feedback: str) -> str:\n",
    "    prompt = f\"\"\"\n",
    "    You are a research assistant. Your task is to revise the following draft outline based on the provided feedback.\n",
    "\n",
    "    Draft Outline:\n",
    "    {draft}\n",
    "\n",
    "    Feedback:\n",
    "    {feedback}\n",
    "\n",
    "    Incorporate the feedback into the draft outline and provide a revised version guided by the feedback.\n",
    "\n",
    "    Return only the revised draft outline in paragraph form.\n",
    "    \"\"\"\n",
    "    response = client.chat.completions.create(\n",
    "        model=\"openai:gpt-4.1\",\n",
    "        messages=[\n",
    "            {\"role\": \"system\", \"content\": \"You are a helpful research assistant.\"},\n",
    "            {\"role\": \"user\", \"content\": prompt}\n",
    "        ],\n",
    "        max_tokens=1500,\n",
    "        temperature=0.7,\n",
    "    )\n",
    "    return response.choices[0].message.content"
   ]
  },
  {
   "cell_type": "markdown",
   "id": "c8a10d4c",
   "metadata": {},
   "source": [
    "### 🧪 Test the Reflective Writing Workflow\n",
    "\n",
    "Use the functions you implemented to simulate the complete writing workflow:\n",
    "\n",
    "1. **Generate a draft** in response to the essay prompt.\n",
    "2. **Reflect** on the draft to identify improvements.\n",
    "3. **Revise** the draft using the feedback.\n",
    "\n",
    "Observe the outputs of each step. You do **not** need to modify the outputs — just verify that the workflow runs as expected and each component returns a valid string.\n",
    "\n",
    ">**👉 Uncomment the code below once your functions are ready to test them in action.**\n",
    "\n"
   ]
  },
  {
   "cell_type": "code",
   "execution_count": 23,
   "id": "203c734a",
   "metadata": {
    "height": 285
   },
   "outputs": [
    {
     "name": "stdout",
     "output_type": "stream",
     "text": [
      "📝 Draft:\n",
      "\n",
      "I. Introduction\n",
      "\n",
      "In the digital age, social media platforms such as Facebook, Twitter, Instagram, and TikTok have become integral to communication, information dissemination, and public discourse. While these platforms provide opportunities for connectivity and expression, they have also raised significant concerns regarding privacy, misinformation, harmful content, and the influence they wield over public opinion. The question of whether social media platforms should be regulated by the government has sparked intense debate among policymakers, technology experts, and the public. This paper will explore the arguments for and against governmental regulation of social media, examine potential models for oversight, and consider the implications such regulation would have on free speech, innovation, and society at large.\n",
      "\n",
      "II. Body\n",
      "\n",
      "A. Arguments in Favor of Government Regulation\n",
      "\n",
      "Proponents of government regulation argue that social media platforms possess immense power to shape public discourse, often without sufficient accountability or transparency. They point to the spread of misinformation, hate speech, and harmful content as evidence that self-regulation by these companies is inadequate. Government intervention, supporters contend, could establish clear standards for content moderation, data privacy, and algorithmic transparency, thus protecting users from exploitation and harm. Additionally, regulation could address issues of market dominance and unfair competition by curbing monopolistic practices among major platforms.\n",
      "\n",
      "B. Arguments Against Government Regulation\n",
      "\n",
      "Opponents caution that government regulation of social media could threaten the foundational principles of free speech and open expression. They argue that governmental authorities, if granted regulatory power, might overreach or censor dissenting voices, potentially stifling democratic debate. Critics also suggest that excessive regulation could hinder innovation, limit competition, and create barriers for new entrants in the technology sector. Furthermore, the global nature of social media raises challenges for national governments, as differing regulatory regimes could fragment the internet and complicate compliance for multinational platforms.\n",
      "\n",
      "C. Existing Models and Case Studies\n",
      "\n",
      "Several countries have already implemented various forms of social media regulation, providing case studies for analysis. For instance, the European Union’s Digital Services Act introduces comprehensive requirements for content moderation and transparency, while countries like China impose strict government control over online content. The United States, in contrast, has largely relied on self-regulation, with Section 230 of the Communications Decency Act shielding platforms from liability for user-generated content. Examining these models highlights the potential benefits and drawbacks of different regulatory approaches and offers valuable lessons for future policy considerations.\n",
      "\n",
      "D. Balancing Regulation and Rights\n",
      "\n",
      "A central challenge in regulating social media is finding the appropriate balance between protecting users and preserving fundamental rights. Policymakers must weigh the need for safety and accountability against the risks of government overreach and censorship. Possible solutions include establishing independent oversight bodies, promoting industry self-regulation with clear guidelines, and ensuring transparency in both governmental and corporate actions. The involvement of civil society, technology experts, and affected communities is crucial in crafting balanced regulatory frameworks that safeguard democratic values.\n",
      "\n",
      "III. Conclusion\n",
      "\n",
      "The question of whether social media platforms should be regulated by the government is complex and multifaceted, involving considerations of safety, free expression, innovation, and global governance. While there are compelling arguments on both sides, the growing influence of social media on society necessitates thoughtful deliberation and action. Striking a balance between regulation and individual rights is essential to ensure that social media continues to serve as a force for good, fostering connection and dialogue while minimizing harm. Ultimately, any regulatory framework should be transparent, inclusive, and adaptable to the evolving digital landscape. Further research and international cooperation are needed to develop effective solutions that address the challenges posed by social media in the twenty-first century.\n",
      "\n",
      "🧠 Feedback:\n",
      "\n",
      "Your draft outline demonstrates a clear and logical structure, progressing from a well-framed introduction to a balanced exploration of arguments for and against government regulation of social media, followed by analysis of case studies and a concluding discussion on balancing regulation with rights. The sections are well-defined, and each point logically builds upon the previous one, allowing for coherent development of the paper’s central question. To further enhance clarity, consider adding brief topic sentences or subheadings within each section to explicitly signal the main points you will address, which will help guide the reader and ensure each argument is distinctly articulated.\n",
      "\n",
      "In terms of argumentative strength, you present both sides of the debate thoroughly, acknowledging the complexity of the issue. However, the outline could benefit from greater specificity and depth in certain areas. For example, in the “Arguments in Favor” and “Arguments Against” sections, referencing specific studies, incidents, or expert opinions would add weight to the claims. Similarly, while the case studies section is valuable, it might be strengthened by explicitly stating what lessons or outcomes will be drawn from each example—such as the effectiveness or potential pitfalls of the EU’s Digital Services Act or the consequences of China’s stricter approach. Additionally, consider including a discussion of hybrid or alternative models that combine elements of self-regulation and government oversight, providing a more nuanced perspective on possible solutions.\n",
      "\n",
      "The writing style is appropriately formal and objective, with a tone that reflects academic rigor and balance. The language is clear and accessible, making the outline suitable for a broad academic audience. Nonetheless, there is some repetition in phrasing (e.g., “balancing regulation and rights” appears in both the body and conclusion) that could be varied for greater stylistic polish. Additionally, aim to tighten sentences by removing unnecessary qualifiers or generalities—being direct and concise will strengthen the impact of your arguments. Lastly, ensure that each section closes with a clear transition to the next, reinforcing the paper’s overall cohesion.\n",
      "\n",
      "Overall, this is a strong and promising outline. By deepening the specificity of examples, clarifying transitions, and varying your language, you can further enhance the paper’s clarity, argumentative force, and stylistic quality.\n",
      "\n",
      "✍️ Revised:\n",
      "\n",
      "In the digital age, social media platforms such as Facebook, Twitter, Instagram, and TikTok have become central to communication, information sharing, and public discourse. These platforms present opportunities for connectivity and expression but also raise critical issues around privacy breaches, misinformation, harmful content proliferation, and the influence on public opinion. The increasing power of social media has ignited a contentious debate about the role of government in their regulation. This paper will examine the necessity and implications of governmental oversight, presenting specific examples, expert perspectives, and global case studies to evaluate the impact of different regulatory approaches on free speech, innovation, and societal well-being.\n",
      "\n",
      "The first section, “Rationale for Government Regulation: Addressing Harms and Market Power,” will outline the main arguments supporting governmental intervention. Proponents highlight the platforms’ outsized influence on public discourse and cite incidents such as the spread of misinformation during elections (e.g., the 2016 U.S. presidential election) and the viral dissemination of harmful content as evidence that self-regulation is insufficient. Studies by organizations like the Pew Research Center and findings from the Facebook Papers underscore the risks of unchecked algorithmic amplification and lack of transparency. Advocates argue that government-imposed standards for content moderation, data privacy, and algorithmic accountability could better protect users and promote fair competition, referencing antitrust actions such as the U.S. Federal Trade Commission’s suits against tech giants.\n",
      "\n",
      "In the second section, “Risks of Regulation: Free Speech, Innovation, and Global Complexity,” the outline will detail the concerns raised by opponents. Critics warn that governmental regulation could endanger free speech, enabling authorities to silence dissent or unpopular opinions, as seen in controversies over content takedowns in countries with weaker democratic traditions. Thought leaders like the Electronic Frontier Foundation caution that overbroad regulation may stifle innovation, raise compliance costs, and deter new entrants. The international scope of social media adds further complexity, with varying national laws risking internet fragmentation and complicating platform compliance, as illustrated by differing approaches to hate speech in Germany and the United States.\n",
      "\n",
      "The third section, “Models of Oversight: Comparative Case Studies,” will analyze regulatory models in practice and their outcomes. The European Union’s Digital Services Act will be assessed for its effectiveness in promoting content transparency and user safety, noting both successes and criticisms, such as challenges in enforcing cross-border regulations. In contrast, China’s model of stringent government control will be examined for its impact on free expression and state surveillance. The outline will also discuss the United States’ reliance on Section 230 and self-regulation, highlighting the resulting challenges in accountability. This section will draw explicit lessons from each case, identifying best practices and potential pitfalls. Additionally, it will introduce “hybrid models” that blend self-regulation with independent oversight, such as the UK’s Online Safety Bill, and discuss the merits and limitations of these alternative frameworks.\n",
      "\n",
      "The fourth section, “Navigating Trade-Offs: Safeguarding Rights and Ensuring Accountability,” will focus on strategies for balancing user protection with the preservation of fundamental rights. It will explore solutions like establishing independent regulatory agencies, mandating transparent reporting, and involving stakeholders—including civil society and technology experts—in policy development. The discussion will emphasize the importance of adaptable, inclusive frameworks that are responsive to technological and societal change, while also addressing the risks of government overreach and the need for judicial oversight.\n",
      "\n",
      "In conclusion, the question of government regulation of social media is deeply nuanced, involving trade-offs between public safety, freedom of expression, innovation, and effective governance in a globalized digital environment. Drawing on specific cases and expert analyses, this paper will argue that thoughtful, transparent, and flexible regulatory models are essential for harnessing the benefits of social media while minimizing harm. The path forward requires ongoing research, international dialogue, and the willingness to experiment with hybrid approaches that can evolve alongside the platforms they aim to govern.\n"
     ]
    }
   ],
   "source": [
    "essay_prompt = \"Should social media platforms be regulated by the government?\"\n",
    "\n",
    "# Agente 1 – Draft\n",
    "draft = generate_draft(essay_prompt)\n",
    "print(\"📝 Draft:\\n\")\n",
    "print(draft)\n",
    "\n",
    "# Agente 2 – Reflection\n",
    "feedback = reflect_on_draft(draft)\n",
    "print(\"\\n🧠 Feedback:\\n\")\n",
    "print(feedback)\n",
    "\n",
    "# Agente 3 – Revision\n",
    "revised = revise_draft(draft, feedback)\n",
    "print(\"\\n✍️ Revised:\\n\")\n",
    "print(revised)"
   ]
  },
  {
   "cell_type": "markdown",
   "id": "7e3eb897",
   "metadata": {},
   "source": [
    "To better visualize the output of each step in the reflective writing workflow, we use a utility function called `show_output`. This function displays the results of each stage (drafting, reflection, and revision) in styled boxes with custom background and text colors, making it easier to compare and understand the progression of the essay.\n",
    "\n",
    ">**👉 Uncomment the code below once your functions are ready to test them in action.**\n",
    "\n"
   ]
  },
  {
   "cell_type": "code",
   "execution_count": 24,
   "id": "50667ba3",
   "metadata": {
    "height": 149
   },
   "outputs": [
    {
     "data": {
      "text/html": [
       "\n",
       "    <div style=\"\n",
       "        border: 1px solid #ccc;\n",
       "        border-radius: 10px;\n",
       "        padding: 15px;\n",
       "        margin-bottom: 15px;\n",
       "        background-color: #fff8dc;\n",
       "        color: #333333;\n",
       "    \">\n",
       "        <h3 style=\"margin-top: 0;\">Step 1 – Draft</h3>\n",
       "        <pre style=\"\n",
       "            white-space: pre-wrap;\n",
       "            font-family: monospace;\n",
       "            font-size: 14px;\n",
       "        \">I. Introduction\n",
       "\n",
       "In the digital age, social media platforms such as Facebook, Twitter, Instagram, and TikTok have become integral to communication, information dissemination, and public discourse. While these platforms provide opportunities for connectivity and expression, they have also raised significant concerns regarding privacy, misinformation, harmful content, and the influence they wield over public opinion. The question of whether social media platforms should be regulated by the government has sparked intense debate among policymakers, technology experts, and the public. This paper will explore the arguments for and against governmental regulation of social media, examine potential models for oversight, and consider the implications such regulation would have on free speech, innovation, and society at large.\n",
       "\n",
       "II. Body\n",
       "\n",
       "A. Arguments in Favor of Government Regulation\n",
       "\n",
       "Proponents of government regulation argue that social media platforms possess immense power to shape public discourse, often without sufficient accountability or transparency. They point to the spread of misinformation, hate speech, and harmful content as evidence that self-regulation by these companies is inadequate. Government intervention, supporters contend, could establish clear standards for content moderation, data privacy, and algorithmic transparency, thus protecting users from exploitation and harm. Additionally, regulation could address issues of market dominance and unfair competition by curbing monopolistic practices among major platforms.\n",
       "\n",
       "B. Arguments Against Government Regulation\n",
       "\n",
       "Opponents caution that government regulation of social media could threaten the foundational principles of free speech and open expression. They argue that governmental authorities, if granted regulatory power, might overreach or censor dissenting voices, potentially stifling democratic debate. Critics also suggest that excessive regulation could hinder innovation, limit competition, and create barriers for new entrants in the technology sector. Furthermore, the global nature of social media raises challenges for national governments, as differing regulatory regimes could fragment the internet and complicate compliance for multinational platforms.\n",
       "\n",
       "C. Existing Models and Case Studies\n",
       "\n",
       "Several countries have already implemented various forms of social media regulation, providing case studies for analysis. For instance, the European Union’s Digital Services Act introduces comprehensive requirements for content moderation and transparency, while countries like China impose strict government control over online content. The United States, in contrast, has largely relied on self-regulation, with Section 230 of the Communications Decency Act shielding platforms from liability for user-generated content. Examining these models highlights the potential benefits and drawbacks of different regulatory approaches and offers valuable lessons for future policy considerations.\n",
       "\n",
       "D. Balancing Regulation and Rights\n",
       "\n",
       "A central challenge in regulating social media is finding the appropriate balance between protecting users and preserving fundamental rights. Policymakers must weigh the need for safety and accountability against the risks of government overreach and censorship. Possible solutions include establishing independent oversight bodies, promoting industry self-regulation with clear guidelines, and ensuring transparency in both governmental and corporate actions. The involvement of civil society, technology experts, and affected communities is crucial in crafting balanced regulatory frameworks that safeguard democratic values.\n",
       "\n",
       "III. Conclusion\n",
       "\n",
       "The question of whether social media platforms should be regulated by the government is complex and multifaceted, involving considerations of safety, free expression, innovation, and global governance. While there are compelling arguments on both sides, the growing influence of social media on society necessitates thoughtful deliberation and action. Striking a balance between regulation and individual rights is essential to ensure that social media continues to serve as a force for good, fostering connection and dialogue while minimizing harm. Ultimately, any regulatory framework should be transparent, inclusive, and adaptable to the evolving digital landscape. Further research and international cooperation are needed to develop effective solutions that address the challenges posed by social media in the twenty-first century.</pre>\n",
       "    </div>\n",
       "    "
      ],
      "text/plain": [
       "<IPython.core.display.HTML object>"
      ]
     },
     "metadata": {},
     "output_type": "display_data"
    },
    {
     "data": {
      "text/html": [
       "\n",
       "    <div style=\"\n",
       "        border: 1px solid #ccc;\n",
       "        border-radius: 10px;\n",
       "        padding: 15px;\n",
       "        margin-bottom: 15px;\n",
       "        background-color: #e0f7fa;\n",
       "        color: #222222;\n",
       "    \">\n",
       "        <h3 style=\"margin-top: 0;\">Step 2 – Reflection</h3>\n",
       "        <pre style=\"\n",
       "            white-space: pre-wrap;\n",
       "            font-family: monospace;\n",
       "            font-size: 14px;\n",
       "        \">Your draft outline demonstrates a clear and logical structure, progressing from a well-framed introduction to a balanced exploration of arguments for and against government regulation of social media, followed by analysis of case studies and a concluding discussion on balancing regulation with rights. The sections are well-defined, and each point logically builds upon the previous one, allowing for coherent development of the paper’s central question. To further enhance clarity, consider adding brief topic sentences or subheadings within each section to explicitly signal the main points you will address, which will help guide the reader and ensure each argument is distinctly articulated.\n",
       "\n",
       "In terms of argumentative strength, you present both sides of the debate thoroughly, acknowledging the complexity of the issue. However, the outline could benefit from greater specificity and depth in certain areas. For example, in the “Arguments in Favor” and “Arguments Against” sections, referencing specific studies, incidents, or expert opinions would add weight to the claims. Similarly, while the case studies section is valuable, it might be strengthened by explicitly stating what lessons or outcomes will be drawn from each example—such as the effectiveness or potential pitfalls of the EU’s Digital Services Act or the consequences of China’s stricter approach. Additionally, consider including a discussion of hybrid or alternative models that combine elements of self-regulation and government oversight, providing a more nuanced perspective on possible solutions.\n",
       "\n",
       "The writing style is appropriately formal and objective, with a tone that reflects academic rigor and balance. The language is clear and accessible, making the outline suitable for a broad academic audience. Nonetheless, there is some repetition in phrasing (e.g., “balancing regulation and rights” appears in both the body and conclusion) that could be varied for greater stylistic polish. Additionally, aim to tighten sentences by removing unnecessary qualifiers or generalities—being direct and concise will strengthen the impact of your arguments. Lastly, ensure that each section closes with a clear transition to the next, reinforcing the paper’s overall cohesion.\n",
       "\n",
       "Overall, this is a strong and promising outline. By deepening the specificity of examples, clarifying transitions, and varying your language, you can further enhance the paper’s clarity, argumentative force, and stylistic quality.</pre>\n",
       "    </div>\n",
       "    "
      ],
      "text/plain": [
       "<IPython.core.display.HTML object>"
      ]
     },
     "metadata": {},
     "output_type": "display_data"
    },
    {
     "data": {
      "text/html": [
       "\n",
       "    <div style=\"\n",
       "        border: 1px solid #ccc;\n",
       "        border-radius: 10px;\n",
       "        padding: 15px;\n",
       "        margin-bottom: 15px;\n",
       "        background-color: #f3e5f5;\n",
       "        color: #222222;\n",
       "    \">\n",
       "        <h3 style=\"margin-top: 0;\">Step 3 – Revision</h3>\n",
       "        <pre style=\"\n",
       "            white-space: pre-wrap;\n",
       "            font-family: monospace;\n",
       "            font-size: 14px;\n",
       "        \">In the digital age, social media platforms such as Facebook, Twitter, Instagram, and TikTok have become central to communication, information sharing, and public discourse. These platforms present opportunities for connectivity and expression but also raise critical issues around privacy breaches, misinformation, harmful content proliferation, and the influence on public opinion. The increasing power of social media has ignited a contentious debate about the role of government in their regulation. This paper will examine the necessity and implications of governmental oversight, presenting specific examples, expert perspectives, and global case studies to evaluate the impact of different regulatory approaches on free speech, innovation, and societal well-being.\n",
       "\n",
       "The first section, “Rationale for Government Regulation: Addressing Harms and Market Power,” will outline the main arguments supporting governmental intervention. Proponents highlight the platforms’ outsized influence on public discourse and cite incidents such as the spread of misinformation during elections (e.g., the 2016 U.S. presidential election) and the viral dissemination of harmful content as evidence that self-regulation is insufficient. Studies by organizations like the Pew Research Center and findings from the Facebook Papers underscore the risks of unchecked algorithmic amplification and lack of transparency. Advocates argue that government-imposed standards for content moderation, data privacy, and algorithmic accountability could better protect users and promote fair competition, referencing antitrust actions such as the U.S. Federal Trade Commission’s suits against tech giants.\n",
       "\n",
       "In the second section, “Risks of Regulation: Free Speech, Innovation, and Global Complexity,” the outline will detail the concerns raised by opponents. Critics warn that governmental regulation could endanger free speech, enabling authorities to silence dissent or unpopular opinions, as seen in controversies over content takedowns in countries with weaker democratic traditions. Thought leaders like the Electronic Frontier Foundation caution that overbroad regulation may stifle innovation, raise compliance costs, and deter new entrants. The international scope of social media adds further complexity, with varying national laws risking internet fragmentation and complicating platform compliance, as illustrated by differing approaches to hate speech in Germany and the United States.\n",
       "\n",
       "The third section, “Models of Oversight: Comparative Case Studies,” will analyze regulatory models in practice and their outcomes. The European Union’s Digital Services Act will be assessed for its effectiveness in promoting content transparency and user safety, noting both successes and criticisms, such as challenges in enforcing cross-border regulations. In contrast, China’s model of stringent government control will be examined for its impact on free expression and state surveillance. The outline will also discuss the United States’ reliance on Section 230 and self-regulation, highlighting the resulting challenges in accountability. This section will draw explicit lessons from each case, identifying best practices and potential pitfalls. Additionally, it will introduce “hybrid models” that blend self-regulation with independent oversight, such as the UK’s Online Safety Bill, and discuss the merits and limitations of these alternative frameworks.\n",
       "\n",
       "The fourth section, “Navigating Trade-Offs: Safeguarding Rights and Ensuring Accountability,” will focus on strategies for balancing user protection with the preservation of fundamental rights. It will explore solutions like establishing independent regulatory agencies, mandating transparent reporting, and involving stakeholders—including civil society and technology experts—in policy development. The discussion will emphasize the importance of adaptable, inclusive frameworks that are responsive to technological and societal change, while also addressing the risks of government overreach and the need for judicial oversight.\n",
       "\n",
       "In conclusion, the question of government regulation of social media is deeply nuanced, involving trade-offs between public safety, freedom of expression, innovation, and effective governance in a globalized digital environment. Drawing on specific cases and expert analyses, this paper will argue that thoughtful, transparent, and flexible regulatory models are essential for harnessing the benefits of social media while minimizing harm. The path forward requires ongoing research, international dialogue, and the willingness to experiment with hybrid approaches that can evolve alongside the platforms they aim to govern.</pre>\n",
       "    </div>\n",
       "    "
      ],
      "text/plain": [
       "<IPython.core.display.HTML object>"
      ]
     },
     "metadata": {},
     "output_type": "display_data"
    }
   ],
   "source": [
    "from utils import show_output\n",
    "\n",
    "essay_prompt = \"Should social media platforms be regulated by the government?\"\n",
    "\n",
    "show_output(\"Step 1 – Draft\", draft, background=\"#fff8dc\", text_color=\"#333333\")\n",
    "show_output(\"Step 2 – Reflection\", feedback, background=\"#e0f7fa\", text_color=\"#222222\")\n",
    "show_output(\"Step 3 – Revision\", revised, background=\"#f3e5f5\", text_color=\"#222222\")\n"
   ]
  }
 ],
 "metadata": {
  "kernelspec": {
   "display_name": "Python 3 (ipykernel)",
   "language": "python",
   "name": "python3"
  },
  "language_info": {
   "codemirror_mode": {
    "name": "ipython",
    "version": 3
   },
   "file_extension": ".py",
   "mimetype": "text/x-python",
   "name": "python",
   "nbconvert_exporter": "python",
   "pygments_lexer": "ipython3",
   "version": "3.11.13"
  }
 },
 "nbformat": 4,
 "nbformat_minor": 5
}
