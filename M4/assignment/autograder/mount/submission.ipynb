{
 "cells": [
  {
   "cell_type": "markdown",
   "id": "259b91a9",
   "metadata": {},
   "source": [
    "# Agentic Workflows\n",
    "\n",
    "## Grading Lab: Using Validation in Multi-Agent Pipelines\n",
    "\n",
    "In this mini-exam, you will implement a small multi-agent workflow that produces a short research report.  \n",
    "Your **Planner Agent** must return a compact plan with a maximum of 4 steps, and one of those steps must explicitly begin with `[VALIDATE]`.  \n",
    "\n",
    "The **validation step** checks whether a sufficient number of URLs come from **trusted domains**.  \n",
    "\n",
    "You are free to adjust the topic, the minimum validation threshold, and the trusted domain list."
   ]
  },
  {
   "cell_type": "code",
   "execution_count": 7,
   "id": "b698b6ef",
   "metadata": {},
   "outputs": [],
   "source": [
    "import aisuite\n",
    "import ast\n",
    "import urllib.parse\n",
    "from dotenv import load_dotenv\n",
    "\n",
    "_ = load_dotenv()  # Load environment variables from a .env file if present\n",
    "client = aisuite.Client()\n",
    "\n",
    "\n",
    "MIN_VALIDATION_RATIO = 0.4  # Minimum ratio of trusted sources to total results\n",
    "\n",
    "TOP_DOMAINS = {}\n",
    "\n",
    "TOPIC=\"The life cycle of a butterfly\""
   ]
  },
  {
   "cell_type": "code",
   "execution_count": 8,
   "id": "05a021bd",
   "metadata": {},
   "outputs": [],
   "source": [
    "def planner_agent(topic: str, model: str = \"openai:o4-mini\") -> list[str]:\n",
    "    \"\"\"\n",
    "    Planner Agent: calls an LLM to return a compact list of steps.\n",
    "    Must include a literal step that starts with [VALIDATE].\n",
    "    Max 4 steps total.\n",
    "    \"\"\"\n",
    "    user_prompt = f\"\"\"\n",
    "    Return ONLY a valid Python list of strings (list[str]).\n",
    "    Maximum 4 steps.\n",
    "    The steps MUST include:\n",
    "      1) A Tavily web search for info on '{topic}' (return JSON with title,url,source)\n",
    "      2) A validation step that STARTS WITH \"[VALIDATE]\"\n",
    "      3) Draft a short Markdown report\n",
    "      4) Final report\n",
    "\n",
    "    Topic: \"{topic}\"\n",
    "    \"\"\".strip()\n",
    "\n",
    "    ### START CODE HERE ###\n",
    "    resp = client.chat.completions.create( # @KEEP client.chat.completions.create(\n",
    "        model=model,  # @REPLACE model=None,\n",
    "        messages=[{\"role\": \"user\", \"content\": user_prompt}], # @REPLACE messages=None,\n",
    "        temperature=1, # @REPLACE temperature=None,\n",
    "    )\n",
    "    ### END CODE HERE ###\n",
    "\n",
    "    steps_str = resp.choices[0].message.content.strip()\n",
    "    return ast.literal_eval(steps_str)  # students will debug if parsing fails\n"
   ]
  },
  {
   "cell_type": "code",
   "execution_count": 9,
   "id": "224822aa",
   "metadata": {},
   "outputs": [],
   "source": [
    "### START CODE HERE ###\n",
    "\n",
    "def validate_tavily_results(results: list[str], min_ratio: float = 0.4) -> str:\n",
    "    \"\"\"Check if enough results are from trusted domains.\"\"\"\n",
    "    def hostname(url: str) -> str:\n",
    "        host = urllib.parse.urlparse(url).hostname or \"\"\n",
    "        return host[4:] if host.startswith(\"www.\") else host\n",
    "\n",
    "    total = len(results)\n",
    "    approved = sum(1 for r in results if any(dom in hostname(r) for dom in TOP_DOMAINS))  # @REPLACE approved = None\n",
    "    ratio = approved / max(total, 1) # @REPLACE ratio = None\n",
    "    status = \"PASS ✅\" if ratio >= min_ratio else \"FAIL ⚠️\" # @REPLACE status = None\n",
    "    return f\"Validation: {status} ({approved}/{total} = {ratio:.0%})\"\n",
    "\n",
    "### END CODE HERE ###\n"
   ]
  },
  {
   "cell_type": "code",
   "execution_count": 10,
   "id": "7a957ba0",
   "metadata": {},
   "outputs": [],
   "source": [
    "def research_agent(task: str) -> str:\n",
    "    return f\"[Research completed for: {task}]\"\n",
    "\n",
    "def writer_agent(task: str) -> str:\n",
    "    return f\"[Draft created for: {task}]\"\n",
    "\n",
    "def editor_agent(task: str) -> str:\n",
    "    return f\"[Edited version of: {task}]\"\n"
   ]
  },
  {
   "cell_type": "code",
   "execution_count": 11,
   "id": "05a17547",
   "metadata": {},
   "outputs": [],
   "source": [
    "def executor_agent(plan: list[str]) -> list[tuple[str, str]]:\n",
    "    history = []\n",
    "    for step in plan:\n",
    "        if step.startswith(\"[VALIDATE]\"):\n",
    "            mock_results = [\n",
    "                \"https://en.wikipedia.org/wiki/Nova\",\n",
    "                \"https://www.fashionnova.com/\"\n",
    "            ]\n",
    "            out = validate_tavily_results(mock_results, min_ratio=MIN_VALIDATION_RATIO) # @REPLACE validate_tavily_results(None, None)\n",
    "        elif \"Search\" in step:\n",
    "            out = research_agent(step) \n",
    "        elif \"Draft\" in step:\n",
    "            out = writer_agent(step) # @REPLACE out = None\n",
    "        elif \"Final\" in step:\n",
    "            out = editor_agent(step) # @REPLACE out = None\n",
    "        else:\n",
    "            out = \"Unknown step\"\n",
    "        history.append((step, out))\n",
    "    return history\n"
   ]
  },
  {
   "cell_type": "code",
   "execution_count": 12,
   "id": "80aa5eb4",
   "metadata": {},
   "outputs": [
    {
     "name": "stdout",
     "output_type": "stream",
     "text": [
      "Plan: [\"A Tavily web search for info on 'The life cycle of a butterfly' (return JSON with title, url, source)\", '[VALIDATE] Verify the retrieved data for accuracy, completeness, and reliability against authoritative scientific sources', 'Draft a short Markdown report summarizing the four stages of a butterfly’s life cycle with headings and concise descriptions', \"Final report: present the completed Markdown document on 'The life cycle of a butterfly'\"]\n",
      "\n",
      "Execution:\n",
      "- A Tavily web search for info on 'The life cycle of a butterfly' (return JSON with title, url, source): Unknown step\n",
      "- [VALIDATE] Verify the retrieved data for accuracy, completeness, and reliability against authoritative scientific sources: Validation: FAIL ⚠️ (0/2 = 0%)\n",
      "- Draft a short Markdown report summarizing the four stages of a butterfly’s life cycle with headings and concise descriptions: [Draft created for: Draft a short Markdown report summarizing the four stages of a butterfly’s life cycle with headings and concise descriptions]\n",
      "- Final report: present the completed Markdown document on 'The life cycle of a butterfly': [Edited version of: Final report: present the completed Markdown document on 'The life cycle of a butterfly']\n"
     ]
    }
   ],
   "source": [
    "plan = planner_agent(TOPIC)\n",
    "print(\"Plan:\", plan)\n",
    "\n",
    "history = executor_agent(plan)\n",
    "print(\"\\nExecution:\")\n",
    "for step, out in history:\n",
    "    print(f\"- {step}: {out}\")\n"
   ]
  }
 ],
 "metadata": {
  "kernelspec": {
   "display_name": "venv",
   "language": "python",
   "name": "python3"
  },
  "language_info": {
   "codemirror_mode": {
    "name": "ipython",
    "version": 3
   },
   "file_extension": ".py",
   "mimetype": "text/x-python",
   "name": "python",
   "nbconvert_exporter": "python",
   "pygments_lexer": "ipython3",
   "version": "3.12.7"
  }
 },
 "nbformat": 4,
 "nbformat_minor": 5
}
